{
 "cells": [
  {
   "cell_type": "markdown",
   "metadata": {},
   "source": [
    "# Pinot Noir Wine Review Naive Bayes Classifier"
   ]
  },
  {
   "cell_type": "markdown",
   "metadata": {},
   "source": [
    "This notebook uses a Naive Bayes Classifier available from NLTK. Below are the packages needed to run this notebook. The text in the `reviews` field was cleaned in the notebook {insert name of .ipynb}. \n",
    "\n",
    "I would like to expand this classifier to be able to classify one of the top 3 varietals, but I chose due to time constraints to limit the scope to just **'Pinot Noir'**"
   ]
  },
  {
   "cell_type": "markdown",
   "metadata": {},
   "source": [
    "**Data set source:**  I downloaded an existing data set from Maven Analytics.  The data was collected from the Wine Enthusiast magazine for the year 2017.\n",
    "\n",
    "**Data set description:**  The data is wine reviews by sommeliers which include the taster's name, wine price, variety of wine, a score for the wine, country wine is from, the vineyard, taster's Twitter handle, and of course the taster's description of the wine.  It has 14 columns and just under 130,000 rows.\n",
    "\n",
    "**Inspiration:** Zack Thoutt is the original scraper of this information from winemag.com. His process and his data were my inspiration. His github is here. Disclaimer: I used Zack's data, but I did not refer to his code for any of my analysis."
   ]
  },
  {
   "cell_type": "code",
   "execution_count": 1,
   "metadata": {},
   "outputs": [],
   "source": [
    "import pandas as pd\n",
    "from nltk.probability import FreqDist\n",
    "import numpy as np\n",
    "import re\n",
    "import nltk\n",
    "from collections import Counter\n",
    "from nltk.stem import PorterStemmer\n",
    "import itertools\n",
    "import os\n",
    "from sklearn.feature_extraction.text import CountVectorizer\n",
    "from sklearn.preprocessing import LabelBinarizer, LabelEncoder"
   ]
  },
  {
   "cell_type": "code",
   "execution_count": 2,
   "metadata": {
    "scrolled": true
   },
   "outputs": [
    {
     "data": {
      "text/html": [
       "<div>\n",
       "<style scoped>\n",
       "    .dataframe tbody tr th:only-of-type {\n",
       "        vertical-align: middle;\n",
       "    }\n",
       "\n",
       "    .dataframe tbody tr th {\n",
       "        vertical-align: top;\n",
       "    }\n",
       "\n",
       "    .dataframe thead th {\n",
       "        text-align: right;\n",
       "    }\n",
       "</style>\n",
       "<table border=\"1\" class=\"dataframe\">\n",
       "  <thead>\n",
       "    <tr style=\"text-align: right;\">\n",
       "      <th></th>\n",
       "      <th>description</th>\n",
       "      <th>points</th>\n",
       "      <th>variety</th>\n",
       "      <th>lowercase</th>\n",
       "      <th>no_punct</th>\n",
       "      <th>notstop</th>\n",
       "      <th>polarity</th>\n",
       "      <th>subjectivity</th>\n",
       "      <th>adjectives</th>\n",
       "    </tr>\n",
       "    <tr>\n",
       "      <th>id</th>\n",
       "      <th></th>\n",
       "      <th></th>\n",
       "      <th></th>\n",
       "      <th></th>\n",
       "      <th></th>\n",
       "      <th></th>\n",
       "      <th></th>\n",
       "      <th></th>\n",
       "      <th></th>\n",
       "    </tr>\n",
       "  </thead>\n",
       "  <tbody>\n",
       "    <tr>\n",
       "      <th>0</th>\n",
       "      <td>Aromas include tropical fruit, broom, brimston...</td>\n",
       "      <td>87</td>\n",
       "      <td>White Blend</td>\n",
       "      <td>aromas include tropical fruit, broom, brimston...</td>\n",
       "      <td>aromas include tropical fruit  broom  brimston...</td>\n",
       "      <td>aromas include tropical fruit broom brimstone ...</td>\n",
       "      <td>0.133</td>\n",
       "      <td>0.733</td>\n",
       "      <td>['tropical', 'expressive', 'unripened', 'brisk']</td>\n",
       "    </tr>\n",
       "    <tr>\n",
       "      <th>1</th>\n",
       "      <td>This is ripe and fruity, a wine that is smooth...</td>\n",
       "      <td>87</td>\n",
       "      <td>Portuguese Red</td>\n",
       "      <td>this is ripe and fruity, a wine that is smooth...</td>\n",
       "      <td>this is ripe and fruity  a wine that is smooth...</td>\n",
       "      <td>ripe fruity wine smooth still structured firm ...</td>\n",
       "      <td>0.220</td>\n",
       "      <td>0.460</td>\n",
       "      <td>['ripe', 'smooth', 'firm', 'juicy', 'red', 'dr...</td>\n",
       "    </tr>\n",
       "    <tr>\n",
       "      <th>2</th>\n",
       "      <td>Tart and snappy, the flavors of lime flesh and...</td>\n",
       "      <td>87</td>\n",
       "      <td>Pinot Gris</td>\n",
       "      <td>tart and snappy, the flavors of lime flesh and...</td>\n",
       "      <td>tart and snappy  the flavors of lime flesh and...</td>\n",
       "      <td>tart snappy flavors lime flesh rind dominate g...</td>\n",
       "      <td>0.025</td>\n",
       "      <td>0.358</td>\n",
       "      <td>['tart', 'snappy', 'green', 'crisp', 'stainles...</td>\n",
       "    </tr>\n",
       "    <tr>\n",
       "      <th>3</th>\n",
       "      <td>Pineapple rind, lemon pith and orange blossom ...</td>\n",
       "      <td>87</td>\n",
       "      <td>Riesling</td>\n",
       "      <td>pineapple rind, lemon pith and orange blossom ...</td>\n",
       "      <td>pineapple rind  lemon pith and orange blossom ...</td>\n",
       "      <td>pineapple rind lemon pith orange blossom start...</td>\n",
       "      <td>0.167</td>\n",
       "      <td>0.167</td>\n",
       "      <td>['opulent', 'astringent', 'semidry']</td>\n",
       "    </tr>\n",
       "    <tr>\n",
       "      <th>4</th>\n",
       "      <td>Much like the regular bottling from 2012, this...</td>\n",
       "      <td>87</td>\n",
       "      <td>Pinot Noir</td>\n",
       "      <td>much like the regular bottling from 2012, this...</td>\n",
       "      <td>much like the regular bottling from 2012  this...</td>\n",
       "      <td>much like regular bottling 2012 comes across r...</td>\n",
       "      <td>0.307</td>\n",
       "      <td>0.449</td>\n",
       "      <td>['regular', 'rough', 'tannic', 'rustic', 'eart...</td>\n",
       "    </tr>\n",
       "  </tbody>\n",
       "</table>\n",
       "</div>"
      ],
      "text/plain": [
       "                                          description  points         variety  \\\n",
       "id                                                                              \n",
       "0   Aromas include tropical fruit, broom, brimston...      87     White Blend   \n",
       "1   This is ripe and fruity, a wine that is smooth...      87  Portuguese Red   \n",
       "2   Tart and snappy, the flavors of lime flesh and...      87      Pinot Gris   \n",
       "3   Pineapple rind, lemon pith and orange blossom ...      87        Riesling   \n",
       "4   Much like the regular bottling from 2012, this...      87      Pinot Noir   \n",
       "\n",
       "                                            lowercase  \\\n",
       "id                                                      \n",
       "0   aromas include tropical fruit, broom, brimston...   \n",
       "1   this is ripe and fruity, a wine that is smooth...   \n",
       "2   tart and snappy, the flavors of lime flesh and...   \n",
       "3   pineapple rind, lemon pith and orange blossom ...   \n",
       "4   much like the regular bottling from 2012, this...   \n",
       "\n",
       "                                             no_punct  \\\n",
       "id                                                      \n",
       "0   aromas include tropical fruit  broom  brimston...   \n",
       "1   this is ripe and fruity  a wine that is smooth...   \n",
       "2   tart and snappy  the flavors of lime flesh and...   \n",
       "3   pineapple rind  lemon pith and orange blossom ...   \n",
       "4   much like the regular bottling from 2012  this...   \n",
       "\n",
       "                                              notstop  polarity  subjectivity  \\\n",
       "id                                                                              \n",
       "0   aromas include tropical fruit broom brimstone ...     0.133         0.733   \n",
       "1   ripe fruity wine smooth still structured firm ...     0.220         0.460   \n",
       "2   tart snappy flavors lime flesh rind dominate g...     0.025         0.358   \n",
       "3   pineapple rind lemon pith orange blossom start...     0.167         0.167   \n",
       "4   much like regular bottling 2012 comes across r...     0.307         0.449   \n",
       "\n",
       "                                           adjectives  \n",
       "id                                                     \n",
       "0    ['tropical', 'expressive', 'unripened', 'brisk']  \n",
       "1   ['ripe', 'smooth', 'firm', 'juicy', 'red', 'dr...  \n",
       "2   ['tart', 'snappy', 'green', 'crisp', 'stainles...  \n",
       "3                ['opulent', 'astringent', 'semidry']  \n",
       "4   ['regular', 'rough', 'tannic', 'rustic', 'eart...  "
      ]
     },
     "execution_count": 2,
     "metadata": {},
     "output_type": "execute_result"
    }
   ],
   "source": [
    "df = pd.read_csv(\"wine_BlobSent2.csv\", index_col='id', na_filter=False)\n",
    "df.head()"
   ]
  },
  {
   "cell_type": "markdown",
   "metadata": {},
   "source": [
    "There are a few columns still in our dataframe from our cleaning and sentiment analysis notebook. Let's take a moment to remove some unnecessary columns, allowing us a more concise picture of the data we are working with."
   ]
  },
  {
   "cell_type": "code",
   "execution_count": 3,
   "metadata": {},
   "outputs": [
    {
     "data": {
      "text/html": [
       "<div>\n",
       "<style scoped>\n",
       "    .dataframe tbody tr th:only-of-type {\n",
       "        vertical-align: middle;\n",
       "    }\n",
       "\n",
       "    .dataframe tbody tr th {\n",
       "        vertical-align: top;\n",
       "    }\n",
       "\n",
       "    .dataframe thead th {\n",
       "        text-align: right;\n",
       "    }\n",
       "</style>\n",
       "<table border=\"1\" class=\"dataframe\">\n",
       "  <thead>\n",
       "    <tr style=\"text-align: right;\">\n",
       "      <th></th>\n",
       "      <th>description</th>\n",
       "      <th>points</th>\n",
       "      <th>variety</th>\n",
       "      <th>notstop</th>\n",
       "      <th>adjectives</th>\n",
       "    </tr>\n",
       "    <tr>\n",
       "      <th>id</th>\n",
       "      <th></th>\n",
       "      <th></th>\n",
       "      <th></th>\n",
       "      <th></th>\n",
       "      <th></th>\n",
       "    </tr>\n",
       "  </thead>\n",
       "  <tbody>\n",
       "    <tr>\n",
       "      <th>0</th>\n",
       "      <td>Aromas include tropical fruit, broom, brimston...</td>\n",
       "      <td>87</td>\n",
       "      <td>White Blend</td>\n",
       "      <td>aromas include tropical fruit broom brimstone ...</td>\n",
       "      <td>['tropical', 'expressive', 'unripened', 'brisk']</td>\n",
       "    </tr>\n",
       "    <tr>\n",
       "      <th>1</th>\n",
       "      <td>This is ripe and fruity, a wine that is smooth...</td>\n",
       "      <td>87</td>\n",
       "      <td>Portuguese Red</td>\n",
       "      <td>ripe fruity wine smooth still structured firm ...</td>\n",
       "      <td>['ripe', 'smooth', 'firm', 'juicy', 'red', 'dr...</td>\n",
       "    </tr>\n",
       "    <tr>\n",
       "      <th>2</th>\n",
       "      <td>Tart and snappy, the flavors of lime flesh and...</td>\n",
       "      <td>87</td>\n",
       "      <td>Pinot Gris</td>\n",
       "      <td>tart snappy flavors lime flesh rind dominate g...</td>\n",
       "      <td>['tart', 'snappy', 'green', 'crisp', 'stainles...</td>\n",
       "    </tr>\n",
       "    <tr>\n",
       "      <th>3</th>\n",
       "      <td>Pineapple rind, lemon pith and orange blossom ...</td>\n",
       "      <td>87</td>\n",
       "      <td>Riesling</td>\n",
       "      <td>pineapple rind lemon pith orange blossom start...</td>\n",
       "      <td>['opulent', 'astringent', 'semidry']</td>\n",
       "    </tr>\n",
       "    <tr>\n",
       "      <th>4</th>\n",
       "      <td>Much like the regular bottling from 2012, this...</td>\n",
       "      <td>87</td>\n",
       "      <td>Pinot Noir</td>\n",
       "      <td>much like regular bottling 2012 comes across r...</td>\n",
       "      <td>['regular', 'rough', 'tannic', 'rustic', 'eart...</td>\n",
       "    </tr>\n",
       "  </tbody>\n",
       "</table>\n",
       "</div>"
      ],
      "text/plain": [
       "                                          description  points         variety  \\\n",
       "id                                                                              \n",
       "0   Aromas include tropical fruit, broom, brimston...      87     White Blend   \n",
       "1   This is ripe and fruity, a wine that is smooth...      87  Portuguese Red   \n",
       "2   Tart and snappy, the flavors of lime flesh and...      87      Pinot Gris   \n",
       "3   Pineapple rind, lemon pith and orange blossom ...      87        Riesling   \n",
       "4   Much like the regular bottling from 2012, this...      87      Pinot Noir   \n",
       "\n",
       "                                              notstop  \\\n",
       "id                                                      \n",
       "0   aromas include tropical fruit broom brimstone ...   \n",
       "1   ripe fruity wine smooth still structured firm ...   \n",
       "2   tart snappy flavors lime flesh rind dominate g...   \n",
       "3   pineapple rind lemon pith orange blossom start...   \n",
       "4   much like regular bottling 2012 comes across r...   \n",
       "\n",
       "                                           adjectives  \n",
       "id                                                     \n",
       "0    ['tropical', 'expressive', 'unripened', 'brisk']  \n",
       "1   ['ripe', 'smooth', 'firm', 'juicy', 'red', 'dr...  \n",
       "2   ['tart', 'snappy', 'green', 'crisp', 'stainles...  \n",
       "3                ['opulent', 'astringent', 'semidry']  \n",
       "4   ['regular', 'rough', 'tannic', 'rustic', 'eart...  "
      ]
     },
     "execution_count": 3,
     "metadata": {},
     "output_type": "execute_result"
    }
   ],
   "source": [
    "del df['lowercase']\n",
    "del df['no_punct']\n",
    "del df['polarity']\n",
    "del df['subjectivity']\n",
    "df.head()"
   ]
  },
  {
   "cell_type": "markdown",
   "metadata": {},
   "source": [
    "Taking a quick look at our varietal breakdown, we can see Pinot Noir is the top reviewed varietal, with Chardonnay close behind. There are a mindblowing 708 different varietals (or varietal blends) that have been reviewied in this dataset."
   ]
  },
  {
   "cell_type": "code",
   "execution_count": 4,
   "metadata": {
    "scrolled": true
   },
   "outputs": [
    {
     "data": {
      "text/plain": [
       "Pinot Noir                  13272\n",
       "Chardonnay                  11753\n",
       "Cabernet Sauvignon           9472\n",
       "Red Blend                    8946\n",
       "Bordeaux-style Red Blend     6915\n",
       "                            ...  \n",
       "Forcallà                        1\n",
       "Favorita                        1\n",
       "Catalanesca                     1\n",
       "St. Vincent                     1\n",
       "                                1\n",
       "Name: variety, Length: 708, dtype: int64"
      ]
     },
     "execution_count": 4,
     "metadata": {},
     "output_type": "execute_result"
    }
   ],
   "source": [
    "df['variety'].value_counts()"
   ]
  },
  {
   "cell_type": "markdown",
   "metadata": {},
   "source": [
    "In this next cell we just take a quick look at what a data frame with only Pinot Noir has in it."
   ]
  },
  {
   "cell_type": "code",
   "execution_count": 5,
   "metadata": {},
   "outputs": [
    {
     "data": {
      "text/html": [
       "<div>\n",
       "<style scoped>\n",
       "    .dataframe tbody tr th:only-of-type {\n",
       "        vertical-align: middle;\n",
       "    }\n",
       "\n",
       "    .dataframe tbody tr th {\n",
       "        vertical-align: top;\n",
       "    }\n",
       "\n",
       "    .dataframe thead th {\n",
       "        text-align: right;\n",
       "    }\n",
       "</style>\n",
       "<table border=\"1\" class=\"dataframe\">\n",
       "  <thead>\n",
       "    <tr style=\"text-align: right;\">\n",
       "      <th></th>\n",
       "      <th>description</th>\n",
       "      <th>points</th>\n",
       "      <th>variety</th>\n",
       "      <th>notstop</th>\n",
       "      <th>adjectives</th>\n",
       "    </tr>\n",
       "    <tr>\n",
       "      <th>id</th>\n",
       "      <th></th>\n",
       "      <th></th>\n",
       "      <th></th>\n",
       "      <th></th>\n",
       "      <th></th>\n",
       "    </tr>\n",
       "  </thead>\n",
       "  <tbody>\n",
       "    <tr>\n",
       "      <th>4</th>\n",
       "      <td>Much like the regular bottling from 2012, this...</td>\n",
       "      <td>87</td>\n",
       "      <td>Pinot Noir</td>\n",
       "      <td>much like regular bottling 2012 comes across r...</td>\n",
       "      <td>['regular', 'rough', 'tannic', 'rustic', 'eart...</td>\n",
       "    </tr>\n",
       "    <tr>\n",
       "      <th>21</th>\n",
       "      <td>A sleek mix of tart berry, stem and herb, alon...</td>\n",
       "      <td>87</td>\n",
       "      <td>Pinot Noir</td>\n",
       "      <td>sleek mix tart berry stem herb along hint oak ...</td>\n",
       "      <td>['sleek', 'tart', 'fair', 'available', 'neutra...</td>\n",
       "    </tr>\n",
       "    <tr>\n",
       "      <th>25</th>\n",
       "      <td>Oak and earth intermingle around robust aromas...</td>\n",
       "      <td>87</td>\n",
       "      <td>Pinot Noir</td>\n",
       "      <td>oak earth intermingle around robust aromas wet...</td>\n",
       "      <td>['robust', 'wet', 'high', 'small', 'intense', ...</td>\n",
       "    </tr>\n",
       "    <tr>\n",
       "      <th>35</th>\n",
       "      <td>As with many of the Erath 2010 vineyard design...</td>\n",
       "      <td>86</td>\n",
       "      <td>Pinot Noir</td>\n",
       "      <td>many erath 2010 vineyard designates strongly h...</td>\n",
       "      <td>['many', 'herbal', 'unripe', 'sweet']</td>\n",
       "    </tr>\n",
       "    <tr>\n",
       "      <th>41</th>\n",
       "      <td>A stiff, tannic wine, this slowly opens and br...</td>\n",
       "      <td>86</td>\n",
       "      <td>Pinot Noir</td>\n",
       "      <td>stiff tannic wine slowly opens brings brambly ...</td>\n",
       "      <td>['stiff', 'tannic', 'berry', 'earthy']</td>\n",
       "    </tr>\n",
       "  </tbody>\n",
       "</table>\n",
       "</div>"
      ],
      "text/plain": [
       "                                          description  points     variety  \\\n",
       "id                                                                          \n",
       "4   Much like the regular bottling from 2012, this...      87  Pinot Noir   \n",
       "21  A sleek mix of tart berry, stem and herb, alon...      87  Pinot Noir   \n",
       "25  Oak and earth intermingle around robust aromas...      87  Pinot Noir   \n",
       "35  As with many of the Erath 2010 vineyard design...      86  Pinot Noir   \n",
       "41  A stiff, tannic wine, this slowly opens and br...      86  Pinot Noir   \n",
       "\n",
       "                                              notstop  \\\n",
       "id                                                      \n",
       "4   much like regular bottling 2012 comes across r...   \n",
       "21  sleek mix tart berry stem herb along hint oak ...   \n",
       "25  oak earth intermingle around robust aromas wet...   \n",
       "35  many erath 2010 vineyard designates strongly h...   \n",
       "41  stiff tannic wine slowly opens brings brambly ...   \n",
       "\n",
       "                                           adjectives  \n",
       "id                                                     \n",
       "4   ['regular', 'rough', 'tannic', 'rustic', 'eart...  \n",
       "21  ['sleek', 'tart', 'fair', 'available', 'neutra...  \n",
       "25  ['robust', 'wet', 'high', 'small', 'intense', ...  \n",
       "35              ['many', 'herbal', 'unripe', 'sweet']  \n",
       "41             ['stiff', 'tannic', 'berry', 'earthy']  "
      ]
     },
     "execution_count": 5,
     "metadata": {},
     "output_type": "execute_result"
    }
   ],
   "source": [
    "wines = ['Pinot Noir']#, 'Chardonnay']\n",
    "df_pinot = df.loc[df['variety'].isin(wines)]\n",
    "df_pinot.head()"
   ]
  },
  {
   "cell_type": "markdown",
   "metadata": {},
   "source": [
    "### Here we will begin to prepare our data for the Naive Bayes Classifier"
   ]
  },
  {
   "cell_type": "markdown",
   "metadata": {},
   "source": [
    "First thing first is to tokenize our column `notstop`. The `notstop` column contains each review text with text normalization techniques applied, such as lowercase casting, removal of non-alpha, punctuation, and leading and trailing whitespace."
   ]
  },
  {
   "cell_type": "code",
   "execution_count": 6,
   "metadata": {},
   "outputs": [],
   "source": [
    "#All wine reviews are tokenized.\n",
    "df['wine_tokens'] = df['notstop'].apply(nltk.word_tokenize)"
   ]
  },
  {
   "cell_type": "markdown",
   "metadata": {},
   "source": [
    "Let's stem our words in `wine_tokens` using PorterStemmer via NLTK to create a more concise corpus"
   ]
  },
  {
   "cell_type": "code",
   "execution_count": 7,
   "metadata": {},
   "outputs": [],
   "source": [
    "stemmer = PorterStemmer()\n",
    " \n",
    "df['stem_tokens'] = df['wine_tokens'].apply(lambda x: [stemmer.stem(y) for y in x])"
   ]
  },
  {
   "cell_type": "markdown",
   "metadata": {},
   "source": [
    "One more quick look at our dataframe with stemmed wine review tokens"
   ]
  },
  {
   "cell_type": "code",
   "execution_count": 8,
   "metadata": {},
   "outputs": [
    {
     "data": {
      "text/html": [
       "<div>\n",
       "<style scoped>\n",
       "    .dataframe tbody tr th:only-of-type {\n",
       "        vertical-align: middle;\n",
       "    }\n",
       "\n",
       "    .dataframe tbody tr th {\n",
       "        vertical-align: top;\n",
       "    }\n",
       "\n",
       "    .dataframe thead th {\n",
       "        text-align: right;\n",
       "    }\n",
       "</style>\n",
       "<table border=\"1\" class=\"dataframe\">\n",
       "  <thead>\n",
       "    <tr style=\"text-align: right;\">\n",
       "      <th></th>\n",
       "      <th>description</th>\n",
       "      <th>points</th>\n",
       "      <th>variety</th>\n",
       "      <th>notstop</th>\n",
       "      <th>adjectives</th>\n",
       "      <th>wine_tokens</th>\n",
       "      <th>stem_tokens</th>\n",
       "    </tr>\n",
       "    <tr>\n",
       "      <th>id</th>\n",
       "      <th></th>\n",
       "      <th></th>\n",
       "      <th></th>\n",
       "      <th></th>\n",
       "      <th></th>\n",
       "      <th></th>\n",
       "      <th></th>\n",
       "    </tr>\n",
       "  </thead>\n",
       "  <tbody>\n",
       "    <tr>\n",
       "      <th>0</th>\n",
       "      <td>Aromas include tropical fruit, broom, brimston...</td>\n",
       "      <td>87</td>\n",
       "      <td>White Blend</td>\n",
       "      <td>aromas include tropical fruit broom brimstone ...</td>\n",
       "      <td>['tropical', 'expressive', 'unripened', 'brisk']</td>\n",
       "      <td>[aromas, include, tropical, fruit, broom, brim...</td>\n",
       "      <td>[aroma, includ, tropic, fruit, broom, brimston...</td>\n",
       "    </tr>\n",
       "    <tr>\n",
       "      <th>1</th>\n",
       "      <td>This is ripe and fruity, a wine that is smooth...</td>\n",
       "      <td>87</td>\n",
       "      <td>Portuguese Red</td>\n",
       "      <td>ripe fruity wine smooth still structured firm ...</td>\n",
       "      <td>['ripe', 'smooth', 'firm', 'juicy', 'red', 'dr...</td>\n",
       "      <td>[ripe, fruity, wine, smooth, still, structured...</td>\n",
       "      <td>[ripe, fruiti, wine, smooth, still, structur, ...</td>\n",
       "    </tr>\n",
       "    <tr>\n",
       "      <th>2</th>\n",
       "      <td>Tart and snappy, the flavors of lime flesh and...</td>\n",
       "      <td>87</td>\n",
       "      <td>Pinot Gris</td>\n",
       "      <td>tart snappy flavors lime flesh rind dominate g...</td>\n",
       "      <td>['tart', 'snappy', 'green', 'crisp', 'stainles...</td>\n",
       "      <td>[tart, snappy, flavors, lime, flesh, rind, dom...</td>\n",
       "      <td>[tart, snappi, flavor, lime, flesh, rind, domi...</td>\n",
       "    </tr>\n",
       "    <tr>\n",
       "      <th>3</th>\n",
       "      <td>Pineapple rind, lemon pith and orange blossom ...</td>\n",
       "      <td>87</td>\n",
       "      <td>Riesling</td>\n",
       "      <td>pineapple rind lemon pith orange blossom start...</td>\n",
       "      <td>['opulent', 'astringent', 'semidry']</td>\n",
       "      <td>[pineapple, rind, lemon, pith, orange, blossom...</td>\n",
       "      <td>[pineappl, rind, lemon, pith, orang, blossom, ...</td>\n",
       "    </tr>\n",
       "    <tr>\n",
       "      <th>4</th>\n",
       "      <td>Much like the regular bottling from 2012, this...</td>\n",
       "      <td>87</td>\n",
       "      <td>Pinot Noir</td>\n",
       "      <td>much like regular bottling 2012 comes across r...</td>\n",
       "      <td>['regular', 'rough', 'tannic', 'rustic', 'eart...</td>\n",
       "      <td>[much, like, regular, bottling, 2012, comes, a...</td>\n",
       "      <td>[much, like, regular, bottl, 2012, come, acros...</td>\n",
       "    </tr>\n",
       "  </tbody>\n",
       "</table>\n",
       "</div>"
      ],
      "text/plain": [
       "                                          description  points         variety  \\\n",
       "id                                                                              \n",
       "0   Aromas include tropical fruit, broom, brimston...      87     White Blend   \n",
       "1   This is ripe and fruity, a wine that is smooth...      87  Portuguese Red   \n",
       "2   Tart and snappy, the flavors of lime flesh and...      87      Pinot Gris   \n",
       "3   Pineapple rind, lemon pith and orange blossom ...      87        Riesling   \n",
       "4   Much like the regular bottling from 2012, this...      87      Pinot Noir   \n",
       "\n",
       "                                              notstop  \\\n",
       "id                                                      \n",
       "0   aromas include tropical fruit broom brimstone ...   \n",
       "1   ripe fruity wine smooth still structured firm ...   \n",
       "2   tart snappy flavors lime flesh rind dominate g...   \n",
       "3   pineapple rind lemon pith orange blossom start...   \n",
       "4   much like regular bottling 2012 comes across r...   \n",
       "\n",
       "                                           adjectives  \\\n",
       "id                                                      \n",
       "0    ['tropical', 'expressive', 'unripened', 'brisk']   \n",
       "1   ['ripe', 'smooth', 'firm', 'juicy', 'red', 'dr...   \n",
       "2   ['tart', 'snappy', 'green', 'crisp', 'stainles...   \n",
       "3                ['opulent', 'astringent', 'semidry']   \n",
       "4   ['regular', 'rough', 'tannic', 'rustic', 'eart...   \n",
       "\n",
       "                                          wine_tokens  \\\n",
       "id                                                      \n",
       "0   [aromas, include, tropical, fruit, broom, brim...   \n",
       "1   [ripe, fruity, wine, smooth, still, structured...   \n",
       "2   [tart, snappy, flavors, lime, flesh, rind, dom...   \n",
       "3   [pineapple, rind, lemon, pith, orange, blossom...   \n",
       "4   [much, like, regular, bottling, 2012, comes, a...   \n",
       "\n",
       "                                          stem_tokens  \n",
       "id                                                     \n",
       "0   [aroma, includ, tropic, fruit, broom, brimston...  \n",
       "1   [ripe, fruiti, wine, smooth, still, structur, ...  \n",
       "2   [tart, snappi, flavor, lime, flesh, rind, domi...  \n",
       "3   [pineappl, rind, lemon, pith, orang, blossom, ...  \n",
       "4   [much, like, regular, bottl, 2012, come, acros...  "
      ]
     },
     "execution_count": 8,
     "metadata": {},
     "output_type": "execute_result"
    }
   ],
   "source": [
    "df.head()"
   ]
  },
  {
   "cell_type": "markdown",
   "metadata": {},
   "source": [
    "# Build a Pinot Noir Wine Review Naive Bayes Classifier"
   ]
  },
  {
   "cell_type": "markdown",
   "metadata": {},
   "source": [
    "Currently our wine varietals are currently in string format. In order to build a Naive Bayes classifier, we must assign to a binary state for analysis. In this next cell we simply create a new column `label` that gives a row value of 1 if the wine varietal is 'Pinot Noir', otherwise, the row value gets 0"
   ]
  },
  {
   "cell_type": "code",
   "execution_count": 9,
   "metadata": {},
   "outputs": [],
   "source": [
    "df['label'] = df['variety'].apply(lambda x: 1 if x=='Pinot Noir' else 0)"
   ]
  },
  {
   "cell_type": "markdown",
   "metadata": {},
   "source": [
    "In the next cell we have to take our `stem_tokens` and vectorize into single-space separated strings (in each row)"
   ]
  },
  {
   "cell_type": "code",
   "execution_count": 10,
   "metadata": {},
   "outputs": [],
   "source": [
    "df['vectorized'] = df['stem_tokens'].apply(lambda x: ' '.join(x))\n",
    "\n",
    "count_vect = CountVectorizer()\n",
    "counts = count_vect.fit_transform(df['vectorized'])"
   ]
  },
  {
   "cell_type": "markdown",
   "metadata": {},
   "source": [
    "Next we use TfidTransformer to get a term frequency matrix times the inverse document-frequency."
   ]
  },
  {
   "cell_type": "code",
   "execution_count": 11,
   "metadata": {},
   "outputs": [],
   "source": [
    "from sklearn.feature_extraction.text import TfidfTransformer\n",
    "\n",
    "transformer = TfidfTransformer().fit(counts) \n",
    "counts = transformer.transform(counts)"
   ]
  },
  {
   "cell_type": "markdown",
   "metadata": {},
   "source": [
    "Initially I was creating a training and testing dataset manually. Then I learned about the module available in the scikit model that does this for you. The code that is commented out in the next cell is my hard coding of testing and training data. I used 10% but as much as 20% of the data could be set aside for testing."
   ]
  },
  {
   "cell_type": "code",
   "execution_count": 12,
   "metadata": {},
   "outputs": [],
   "source": [
    "# # Split data into train and test\n",
    "# train_size = int(len(df_pinot) * .8)\n",
    "# print (\"Train size: %d\" % train_size)\n",
    "# print (\"Test size: %d\" % (len(df_pinot) - train_size))\n",
    "\n",
    "from sklearn.model_selection import train_test_split\n",
    "\n",
    "X_train, X_test, y_train, y_test = train_test_split(counts, df['label'], test_size=0.3, random_state=47)"
   ]
  },
  {
   "cell_type": "markdown",
   "metadata": {},
   "source": [
    "Now for the fun stuff! We get to train and test out our model for categorizing wine reviews based on Naive Bayes classification. For this model we are only looking to identify Pinot Noir specifically, but this classifier could be expanded to classify at least the top 3 varietals as they each have almost or more than 10,000 total reviews a piece.:\n",
    "\n",
    "    Top 3 Varietals and Review Counts:\n",
    "    \n",
    "Pinot Noir    -->              13272\n",
    "\n",
    "Chardonnay       -->           11753\n",
    "\n",
    "Cabernet Sauvignon     -->      9472\n"
   ]
  },
  {
   "cell_type": "code",
   "execution_count": 13,
   "metadata": {},
   "outputs": [],
   "source": [
    "from sklearn.naive_bayes import MultinomialNB\n",
    "\n",
    "naive_bayes = MultinomialNB() #create naive_bayes variable\n",
    "model = naive_bayes.fit(X_train, y_train) #fit our training data and assign to 'model' variable\n",
    "predictions = model.predict(X_test) #use our model to test with our X_test data "
   ]
  },
  {
   "cell_type": "markdown",
   "metadata": {},
   "source": [
    "A lot of handwaving occured in the previous cell, but essentially we used the 'MultinomialNB()' classifier from NLTK that handles a lot of the heavy lifting for us. By calling this module on our training data, `X_train` and `y_train`, we are able to then use that model and make predictions on our `X_test` testing data.\n",
    "\n",
    "In the following cell we use another nice few modules from scikit that allow us to easily calculate the Accuracy, Precision, and Recall of our model. Looks like we did pretty well, with an accuracy score above **90%**, a precision score above **92%** and a recall score of **11%**."
   ]
  },
  {
   "cell_type": "code",
   "execution_count": 14,
   "metadata": {},
   "outputs": [
    {
     "name": "stdout",
     "output_type": "stream",
     "text": [
      "Accuracy score:  0.9062884694296266\n",
      "Precision score:  0.9363636363636364\n",
      "Recall score:  0.07838660578386605\n"
     ]
    }
   ],
   "source": [
    "from sklearn.metrics import accuracy_score, precision_score, recall_score\n",
    "print('Accuracy score: ', accuracy_score(y_test, predictions))\n",
    "print('Precision score: ', precision_score(y_test, predictions))\n",
    "print('Recall score: ', recall_score(y_test, predictions))"
   ]
  },
  {
   "cell_type": "markdown",
   "metadata": {},
   "source": [
    "Looking at our results in a confusion matrix gives some idea of the shape of our results."
   ]
  },
  {
   "cell_type": "code",
   "execution_count": 15,
   "metadata": {},
   "outputs": [
    {
     "name": "stdout",
     "output_type": "stream",
     "text": [
      "[[35029    21]\n",
      " [ 3633   309]]\n"
     ]
    }
   ],
   "source": [
    "from sklearn.metrics import confusion_matrix\n",
    "print(confusion_matrix(y_test, predictions))"
   ]
  },
  {
   "cell_type": "code",
   "execution_count": 17,
   "metadata": {
    "scrolled": false
   },
   "outputs": [
    {
     "data": {
      "text/plain": [
       "Text(90.77375, 0.5, 'predicted label')"
      ]
     },
     "execution_count": 17,
     "metadata": {},
     "output_type": "execute_result"
    },
    {
     "data": {
      "image/png": "[encoded data removed]",
      "text/plain": [
       "<Figure size 432x288 with 1 Axes>"
      ]
     },
     "metadata": {
      "needs_background": "light"
     },
     "output_type": "display_data"
    }
   ],
   "source": [
    "from sklearn.metrics import confusion_matrix\n",
    "%matplotlib inline\n",
    "import matplotlib.pyplot as plt\n",
    "import seaborn as sns\n",
    "\n",
    "\n",
    "cm = confusion_matrix(y_test, predictions)\n",
    "sns.heatmap(cm, square=True, annot=True, cmap='RdBu', cbar=False, cbar_ax=True,\n",
    "xticklabels=['pinot_noir', 'not_pinot'], yticklabels=['pinot_noir', 'not_pinot'])\n",
    "plt.xlabel('true label')\n",
    "plt.ylabel('predicted label')"
   ]
  }
 ],
 "metadata": {
  "kernelspec": {
   "display_name": "Python 3",
   "language": "python",
   "name": "python3"
  },
  "language_info": {
   "codemirror_mode": {
    "name": "ipython",
    "version": 3
   },
   "file_extension": ".py",
   "mimetype": "text/x-python",
   "name": "python",
   "nbconvert_exporter": "python",
   "pygments_lexer": "ipython3",
   "version": "3.7.3"
  }
 },
 "nbformat": 4,
 "nbformat_minor": 4
}
