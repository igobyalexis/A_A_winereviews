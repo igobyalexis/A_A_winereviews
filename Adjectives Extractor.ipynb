{
 "cells": [
  {
   "cell_type": "code",
   "execution_count": 9,
   "metadata": {},
   "outputs": [],
   "source": [
    "import pandas as pd\n",
    "from nltk.probability import FreqDist\n",
    "import numpy as np\n",
    "import re\n",
    "import nltk\n",
    "from collections import Counter\n",
    "from nltk.stem import PorterStemmer\n",
    "import itertools\n",
    "import os\n",
    "import spacy"
   ]
  },
  {
   "cell_type": "code",
   "execution_count": 2,
   "metadata": {},
   "outputs": [],
   "source": [
    "df = pd.read_csv(\"vader_scores.csv\", index_col='id', na_filter=False)"
   ]
  },
  {
   "cell_type": "code",
   "execution_count": 5,
   "metadata": {
    "scrolled": true
   },
   "outputs": [
    {
     "data": {
      "text/html": [
       "<div>\n",
       "<style scoped>\n",
       "    .dataframe tbody tr th:only-of-type {\n",
       "        vertical-align: middle;\n",
       "    }\n",
       "\n",
       "    .dataframe tbody tr th {\n",
       "        vertical-align: top;\n",
       "    }\n",
       "\n",
       "    .dataframe thead th {\n",
       "        text-align: right;\n",
       "    }\n",
       "</style>\n",
       "<table border=\"1\" class=\"dataframe\">\n",
       "  <thead>\n",
       "    <tr style=\"text-align: right;\">\n",
       "      <th></th>\n",
       "      <th>points</th>\n",
       "      <th>variety</th>\n",
       "      <th>polarity</th>\n",
       "      <th>subjectivity</th>\n",
       "      <th>wine_tokes</th>\n",
       "      <th>compound</th>\n",
       "      <th>neg</th>\n",
       "      <th>neu</th>\n",
       "      <th>pos</th>\n",
       "    </tr>\n",
       "    <tr>\n",
       "      <th>id</th>\n",
       "      <th></th>\n",
       "      <th></th>\n",
       "      <th></th>\n",
       "      <th></th>\n",
       "      <th></th>\n",
       "      <th></th>\n",
       "      <th></th>\n",
       "      <th></th>\n",
       "      <th></th>\n",
       "    </tr>\n",
       "  </thead>\n",
       "  <tbody>\n",
       "    <tr>\n",
       "      <th>0</th>\n",
       "      <td>87</td>\n",
       "      <td>White Blend</td>\n",
       "      <td>0.133</td>\n",
       "      <td>0.733</td>\n",
       "      <td>aromas include tropical fruit broom brimstone ...</td>\n",
       "      <td>0.1531</td>\n",
       "      <td>0.000</td>\n",
       "      <td>0.922</td>\n",
       "      <td>0.078</td>\n",
       "    </tr>\n",
       "    <tr>\n",
       "      <th>1</th>\n",
       "      <td>87</td>\n",
       "      <td>Portuguese Red</td>\n",
       "      <td>0.220</td>\n",
       "      <td>0.460</td>\n",
       "      <td>ripe fruity wine smooth still structured firm ...</td>\n",
       "      <td>0.6486</td>\n",
       "      <td>0.000</td>\n",
       "      <td>0.773</td>\n",
       "      <td>0.227</td>\n",
       "    </tr>\n",
       "    <tr>\n",
       "      <th>2</th>\n",
       "      <td>87</td>\n",
       "      <td>Pinot Gris</td>\n",
       "      <td>0.025</td>\n",
       "      <td>0.358</td>\n",
       "      <td>tart snappy flavors lime flesh rind dominate g...</td>\n",
       "      <td>-0.1280</td>\n",
       "      <td>0.081</td>\n",
       "      <td>0.919</td>\n",
       "      <td>0.000</td>\n",
       "    </tr>\n",
       "    <tr>\n",
       "      <th>3</th>\n",
       "      <td>87</td>\n",
       "      <td>Riesling</td>\n",
       "      <td>0.167</td>\n",
       "      <td>0.167</td>\n",
       "      <td>pineapple rind lemon pith orange blossom start...</td>\n",
       "      <td>0.3400</td>\n",
       "      <td>0.000</td>\n",
       "      <td>0.897</td>\n",
       "      <td>0.103</td>\n",
       "    </tr>\n",
       "    <tr>\n",
       "      <th>4</th>\n",
       "      <td>87</td>\n",
       "      <td>Pinot Noir</td>\n",
       "      <td>0.307</td>\n",
       "      <td>0.449</td>\n",
       "      <td>much like regular bottling      comes across r...</td>\n",
       "      <td>0.8176</td>\n",
       "      <td>0.000</td>\n",
       "      <td>0.712</td>\n",
       "      <td>0.288</td>\n",
       "    </tr>\n",
       "  </tbody>\n",
       "</table>\n",
       "</div>"
      ],
      "text/plain": [
       "    points         variety  polarity  subjectivity  \\\n",
       "id                                                   \n",
       "0       87     White Blend     0.133         0.733   \n",
       "1       87  Portuguese Red     0.220         0.460   \n",
       "2       87      Pinot Gris     0.025         0.358   \n",
       "3       87        Riesling     0.167         0.167   \n",
       "4       87      Pinot Noir     0.307         0.449   \n",
       "\n",
       "                                           wine_tokes  compound    neg    neu  \\\n",
       "id                                                                              \n",
       "0   aromas include tropical fruit broom brimstone ...    0.1531  0.000  0.922   \n",
       "1   ripe fruity wine smooth still structured firm ...    0.6486  0.000  0.773   \n",
       "2   tart snappy flavors lime flesh rind dominate g...   -0.1280  0.081  0.919   \n",
       "3   pineapple rind lemon pith orange blossom start...    0.3400  0.000  0.897   \n",
       "4   much like regular bottling      comes across r...    0.8176  0.000  0.712   \n",
       "\n",
       "      pos  \n",
       "id         \n",
       "0   0.078  \n",
       "1   0.227  \n",
       "2   0.000  \n",
       "3   0.103  \n",
       "4   0.288  "
      ]
     },
     "execution_count": 5,
     "metadata": {},
     "output_type": "execute_result"
    }
   ],
   "source": [
    "df.head()"
   ]
  },
  {
   "cell_type": "code",
   "execution_count": 4,
   "metadata": {},
   "outputs": [],
   "source": [
    "del df['adjectives']"
   ]
  },
  {
   "cell_type": "code",
   "execution_count": 10,
   "metadata": {},
   "outputs": [],
   "source": [
    "nlp = spacy.load('en_core_web_sm')"
   ]
  },
  {
   "cell_type": "code",
   "execution_count": 23,
   "metadata": {},
   "outputs": [],
   "source": [
    "adjectives = []\n",
    "\n",
    "for idx,line in enumerate(df['wine_tokes']):\n",
    "    #if data['points'] > 89:\n",
    "    doc = nlp(line)\n",
    "    tokens = [tok.lemma_.lower() for tok in doc if tok.pos_ == 'ADJ']\n",
    "    adjectives.append(tokens)\n",
    "    \n",
    "#     if idx > 30:\n",
    "#         break"
   ]
  },
  {
   "cell_type": "code",
   "execution_count": 13,
   "metadata": {
    "collapsed": true
   },
   "outputs": [
    {
     "data": {
      "text/plain": [
       "[['tropical', 'expressive', 'unripened', 'brisk'],\n",
       " ['ripe', 'firm', 'juicy', 'red', 'drinkable', 'well'],\n",
       " ['tart', 'snappy', 'green', 'crisp', 'stainless'],\n",
       " ['opulent', 'astringent', 'semidry'],\n",
       " ['regular', 'rough', 'tannic', 'rustic', 'earthy', 'herbal', 'unfussy'],\n",
       " ['typical', 'horseradish', 'full', 'herbal', 'dark', 'fresh'],\n",
       " ['bright', 'informal', 'red', 'savory', 'balanced', 'fresh', 'soft'],\n",
       " ['dry', 'restrained', 'balanced', 'much'],\n",
       " ['savory', 'accent', 'sunny', 'brisk', 'dry', 'fresh', 'elegant'],\n",
       " ['great', 'fresh', 'dry', 'balanced', 'crisp'],\n",
       " ['soft', 'supple', 'oaky', 'complete', 'strong', 'attractive', 'immediate'],\n",
       " ['dry', 'spicy', 'tight', 'crisp'],\n",
       " ['reduced', 'tannic', 'juicy', 'rich', 'black', 'firm'],\n",
       " ['abrupt'],\n",
       " ['lean', 'tart', 'green', 'good', 'everyday', 'ripe', 'approachable'],\n",
       " ['dry', 'lean', 'easy', 'quaffer', 'wide'],\n",
       " ['braced', 'compact', 'green', 'respectable'],\n",
       " ['raw', 'black', 'simple', 'good', 'apparent', 'dark', 'hot'],\n",
       " ['full', 'bodied', 'dominate'],\n",
       " ['restrained', 'crushed', 'approachable', 'ready'],\n",
       " ['ripe', 'dark', 'ample', 'black', 'pepper', 'red'],\n",
       " ['berry', 'fair', 'available', 'neutral'],\n",
       " ['delicate', 'bright'],\n",
       " ['sour', 'flat', 'first', 'sour', 'midpalate', 'black'],\n",
       " ['black'],\n",
       " ['robust', 'high', 'small', 'intense', 'full', 'smoky', 'smooth'],\n",
       " ['pretty', 'bright', 'yellow', 'delicate', 'crisp'],\n",
       " ['ripe', 'dark', 'soft', 'informal', 'sour', 'round'],\n",
       " ['mature', 'scorched', 'ripe', 'dusty'],\n",
       " ['several', 'balanced', 'residual', 'cold'],\n",
       " ['light', 'bright', 'open', 'juicy'],\n",
       " ['red', 'fettuccine', 'clean', 'bright', 'sharp']]"
      ]
     },
     "execution_count": 13,
     "metadata": {},
     "output_type": "execute_result"
    }
   ],
   "source": [
    "adjectives"
   ]
  },
  {
   "cell_type": "code",
   "execution_count": 24,
   "metadata": {},
   "outputs": [],
   "source": [
    "adj_str = [' '.join(x) for x in adjectives]"
   ]
  },
  {
   "cell_type": "code",
   "execution_count": 22,
   "metadata": {},
   "outputs": [
    {
     "data": {
      "text/plain": [
       "list"
      ]
     },
     "execution_count": 22,
     "metadata": {},
     "output_type": "execute_result"
    }
   ],
   "source": [
    "type(adj_str)"
   ]
  },
  {
   "cell_type": "code",
   "execution_count": 25,
   "metadata": {},
   "outputs": [],
   "source": [
    "df['adj_str'] = adj_str"
   ]
  },
  {
   "cell_type": "code",
   "execution_count": 27,
   "metadata": {},
   "outputs": [],
   "source": [
    "df.to_csv('wine_adjectives.csv')"
   ]
  },
  {
   "cell_type": "code",
   "execution_count": 26,
   "metadata": {},
   "outputs": [
    {
     "data": {
      "text/html": [
       "<div>\n",
       "<style scoped>\n",
       "    .dataframe tbody tr th:only-of-type {\n",
       "        vertical-align: middle;\n",
       "    }\n",
       "\n",
       "    .dataframe tbody tr th {\n",
       "        vertical-align: top;\n",
       "    }\n",
       "\n",
       "    .dataframe thead th {\n",
       "        text-align: right;\n",
       "    }\n",
       "</style>\n",
       "<table border=\"1\" class=\"dataframe\">\n",
       "  <thead>\n",
       "    <tr style=\"text-align: right;\">\n",
       "      <th></th>\n",
       "      <th>points</th>\n",
       "      <th>variety</th>\n",
       "      <th>polarity</th>\n",
       "      <th>subjectivity</th>\n",
       "      <th>wine_tokes</th>\n",
       "      <th>compound</th>\n",
       "      <th>neg</th>\n",
       "      <th>neu</th>\n",
       "      <th>pos</th>\n",
       "      <th>adj_str</th>\n",
       "    </tr>\n",
       "    <tr>\n",
       "      <th>id</th>\n",
       "      <th></th>\n",
       "      <th></th>\n",
       "      <th></th>\n",
       "      <th></th>\n",
       "      <th></th>\n",
       "      <th></th>\n",
       "      <th></th>\n",
       "      <th></th>\n",
       "      <th></th>\n",
       "      <th></th>\n",
       "    </tr>\n",
       "  </thead>\n",
       "  <tbody>\n",
       "    <tr>\n",
       "      <th>0</th>\n",
       "      <td>87</td>\n",
       "      <td>White Blend</td>\n",
       "      <td>0.133</td>\n",
       "      <td>0.733</td>\n",
       "      <td>aromas include tropical fruit broom brimstone ...</td>\n",
       "      <td>0.1531</td>\n",
       "      <td>0.000</td>\n",
       "      <td>0.922</td>\n",
       "      <td>0.078</td>\n",
       "      <td>tropical expressive unripened brisk</td>\n",
       "    </tr>\n",
       "    <tr>\n",
       "      <th>1</th>\n",
       "      <td>87</td>\n",
       "      <td>Portuguese Red</td>\n",
       "      <td>0.220</td>\n",
       "      <td>0.460</td>\n",
       "      <td>ripe fruity wine smooth still structured firm ...</td>\n",
       "      <td>0.6486</td>\n",
       "      <td>0.000</td>\n",
       "      <td>0.773</td>\n",
       "      <td>0.227</td>\n",
       "      <td>ripe firm juicy red drinkable well</td>\n",
       "    </tr>\n",
       "    <tr>\n",
       "      <th>2</th>\n",
       "      <td>87</td>\n",
       "      <td>Pinot Gris</td>\n",
       "      <td>0.025</td>\n",
       "      <td>0.358</td>\n",
       "      <td>tart snappy flavors lime flesh rind dominate g...</td>\n",
       "      <td>-0.1280</td>\n",
       "      <td>0.081</td>\n",
       "      <td>0.919</td>\n",
       "      <td>0.000</td>\n",
       "      <td>tart snappy green crisp stainless</td>\n",
       "    </tr>\n",
       "    <tr>\n",
       "      <th>3</th>\n",
       "      <td>87</td>\n",
       "      <td>Riesling</td>\n",
       "      <td>0.167</td>\n",
       "      <td>0.167</td>\n",
       "      <td>pineapple rind lemon pith orange blossom start...</td>\n",
       "      <td>0.3400</td>\n",
       "      <td>0.000</td>\n",
       "      <td>0.897</td>\n",
       "      <td>0.103</td>\n",
       "      <td>opulent astringent semidry</td>\n",
       "    </tr>\n",
       "    <tr>\n",
       "      <th>4</th>\n",
       "      <td>87</td>\n",
       "      <td>Pinot Noir</td>\n",
       "      <td>0.307</td>\n",
       "      <td>0.449</td>\n",
       "      <td>much like regular bottling      comes across r...</td>\n",
       "      <td>0.8176</td>\n",
       "      <td>0.000</td>\n",
       "      <td>0.712</td>\n",
       "      <td>0.288</td>\n",
       "      <td>regular rough tannic rustic earthy herbal unfussy</td>\n",
       "    </tr>\n",
       "  </tbody>\n",
       "</table>\n",
       "</div>"
      ],
      "text/plain": [
       "    points         variety  polarity  subjectivity  \\\n",
       "id                                                   \n",
       "0       87     White Blend     0.133         0.733   \n",
       "1       87  Portuguese Red     0.220         0.460   \n",
       "2       87      Pinot Gris     0.025         0.358   \n",
       "3       87        Riesling     0.167         0.167   \n",
       "4       87      Pinot Noir     0.307         0.449   \n",
       "\n",
       "                                           wine_tokes  compound    neg    neu  \\\n",
       "id                                                                              \n",
       "0   aromas include tropical fruit broom brimstone ...    0.1531  0.000  0.922   \n",
       "1   ripe fruity wine smooth still structured firm ...    0.6486  0.000  0.773   \n",
       "2   tart snappy flavors lime flesh rind dominate g...   -0.1280  0.081  0.919   \n",
       "3   pineapple rind lemon pith orange blossom start...    0.3400  0.000  0.897   \n",
       "4   much like regular bottling      comes across r...    0.8176  0.000  0.712   \n",
       "\n",
       "      pos                                            adj_str  \n",
       "id                                                            \n",
       "0   0.078                tropical expressive unripened brisk  \n",
       "1   0.227                 ripe firm juicy red drinkable well  \n",
       "2   0.000                  tart snappy green crisp stainless  \n",
       "3   0.103                         opulent astringent semidry  \n",
       "4   0.288  regular rough tannic rustic earthy herbal unfussy  "
      ]
     },
     "execution_count": 26,
     "metadata": {},
     "output_type": "execute_result"
    }
   ],
   "source": [
    "df.head()"
   ]
  }
 ],
 "metadata": {
  "kernelspec": {
   "display_name": "Python 3",
   "language": "python",
   "name": "python3"
  },
  "language_info": {
   "codemirror_mode": {
    "name": "ipython",
    "version": 3
   },
   "file_extension": ".py",
   "mimetype": "text/x-python",
   "name": "python",
   "nbconvert_exporter": "python",
   "pygments_lexer": "ipython3",
   "version": "3.7.3"
  }
 },
 "nbformat": 4,
 "nbformat_minor": 2
}
